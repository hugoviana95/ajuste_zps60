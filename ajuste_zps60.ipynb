{
 "cells": [
  {
   "cell_type": "code",
   "execution_count": 72,
   "metadata": {},
   "outputs": [],
   "source": [
    "import pandas as pd\n",
    "import os\n",
    "from datetime import datetime"
   ]
  },
  {
   "cell_type": "code",
   "execution_count": 32,
   "metadata": {},
   "outputs": [],
   "source": [
    "# Lê o de-para\n",
    "\n",
    "depara_atividades = pd.read_excel(\"DE-PARA.xlsx\", sheet_name='ATIVIDADES')\n",
    "depara_materiais = pd.read_excel(\"DE-PARA.xlsx\", sheet_name='MATERIAIS')\n",
    "depara_materiais = depara_materiais.loc[depara_materiais['STATUS'] == 'FORA DE PADRÃO']"
   ]
  },
  {
   "cell_type": "code",
   "execution_count": 33,
   "metadata": {},
   "outputs": [],
   "source": [
    "# Lê o caderno de serviços\n",
    "\n",
    "caderno_servicos = pd.read_excel(\"caderno de serviços.xlsx\")"
   ]
  },
  {
   "cell_type": "code",
   "execution_count": 34,
   "metadata": {},
   "outputs": [],
   "source": [
    "# Lê detalhamento dos materiais\n",
    "\n",
    "detalhamento_materiais = pd.read_excel(\"Detalhamento dos materiais.xlsx\")"
   ]
  },
  {
   "cell_type": "code",
   "execution_count": 35,
   "metadata": {},
   "outputs": [],
   "source": [
    "# Lê a ZPS60\n",
    "\n",
    "try:\n",
    "    zps60_inst = pd.read_fwf('_Mat_Serv_a_Instalar.txt', encoding = 'unicode_escape', colspecs = [(0, 24), (24, 60), (60, 140), (140, 143), (143, 154), (154, 164), (164, -1)], names = ['projeto', 'codigo', 'descricao', 'und', 'qnt', 'valor', 'tipo'])\n",
    "    zps60_inst['projeto'] = zps60_inst['projeto'].replace(to_replace=r'B', value='', regex=True)\n",
    "    zps60_inst['projeto'] = zps60_inst['projeto'].replace(to_replace=r'X', value='', regex=True)\n",
    "    zps60_inst['projeto'] = zps60_inst['projeto'].replace(to_replace=r'Y', value='', regex=True)\n",
    "    zps60_inst['projeto'] = zps60_inst['projeto'].astype(int)\n",
    "except:\n",
    "    zps60_inst = ''\n",
    "\n",
    "try:\n",
    "    zps60_dest = pd.read_fwf('_Mat_Serv_a_Desativar.txt', encoding = 'unicode_escape', colspecs = [(0, 24), (24, 60), (60, 140), (140, 143), (143, 154), (154, 164), (164, -1)], names = ['projeto', 'codigo', 'descricao', 'und', 'qnt', 'valor', 'tipo'])\n",
    "    zps60_dest['projeto'] = zps60_dest['projeto'].replace(to_replace=r'B', value='', regex=True)\n",
    "    zps60_dest['projeto'] = zps60_dest['projeto'].replace(to_replace=r'X', value='', regex=True)\n",
    "    zps60_dest['projeto'] = zps60_dest['projeto'].replace(to_replace=r'Y', value='', regex=True)\n",
    "    zps60_dest['projeto'] = zps60_dest['projeto'].astype(int)\n",
    "except:\n",
    "    zps60_dest = ''\n"
   ]
  },
  {
   "cell_type": "code",
   "execution_count": 36,
   "metadata": {},
   "outputs": [
    {
     "name": "stderr",
     "output_type": "stream",
     "text": [
      "C:\\Users\\PC1210\\AppData\\Local\\Temp\\ipykernel_20176\\4039113865.py:16: SettingWithCopyWarning: \n",
      "A value is trying to be set on a copy of a slice from a DataFrame.\n",
      "Try using .loc[row_indexer,col_indexer] = value instead\n",
      "\n",
      "See the caveats in the documentation: https://pandas.pydata.org/pandas-docs/stable/user_guide/indexing.html#returning-a-view-versus-a-copy\n",
      "  materiais['codigo'] = materiais['codigo'].astype(int)\n"
     ]
    }
   ],
   "source": [
    "# Separa materiais das atividades\n",
    "\n",
    "if ((type(zps60_inst) != str) and (type(zps60_dest) != str)):\n",
    "    atividades_inst = zps60_inst.loc[zps60_inst['tipo'] == 2]\n",
    "    atividades_dest = zps60_dest.loc[zps60_dest['tipo'] == 2]\n",
    "    atividades = pd.concat([atividades_inst, atividades_dest])\n",
    "    atividades.reset_index(inplace=True, drop=True)\n",
    "elif (type(zps60_inst) != str):\n",
    "    atividades_inst = zps60_inst.loc[zps60_inst['tipo'] == 2]\n",
    "    atividades = atividades_inst\n",
    "elif (type(zps60_dest) != str):\n",
    "    atividades_dest = zps60_dest.loc[zps60_dest['tipo'] == 2]\n",
    "    atividades = atividades_dest\n",
    "\n",
    "materiais = zps60_inst.loc[zps60_inst['tipo'] == 1]\n",
    "materiais['codigo'] = materiais['codigo'].astype(int)\n",
    "materiais.reset_index(inplace=True, drop=True)"
   ]
  },
  {
   "cell_type": "code",
   "execution_count": 37,
   "metadata": {},
   "outputs": [],
   "source": [
    "# Define valores do fator K\n",
    "\n",
    "fator_k = pd.DataFrame([['LV', 2.7],['REDES', 1.68]], columns=['GRUPO','FATOR_K'])"
   ]
  },
  {
   "cell_type": "code",
   "execution_count": 38,
   "metadata": {},
   "outputs": [],
   "source": [
    "####### TRATANDO ATIVIDADES\n",
    "\n",
    "for count, value in enumerate(atividades.values):\n",
    "    \n",
    "    if value[1] in depara_atividades['cod_de'].values:\n",
    "        linha = depara_atividades.loc[depara_atividades['cod_de'] == value[1]].values\n",
    "        atividades.loc[count, 'codigo'] = linha[0][2]\n",
    "        atividades.loc[count, 'descricao'] = linha[0][3]\n",
    "\n",
    "    if value[2] == 'INSTALAR POSTE 9 A 14 METROS' or value[2] == 'INSTALAR POSTE 14 METROS OU SUPERIOR' or value[2] == 'INSTALAR POSTE 7 METROS' or value[2] == 'INST POSTE 10 A 16 METROS' or value[2] == 'INST POSTE 7 A 9 METROS':\n",
    "        atividades = pd.concat([atividades, pd.DataFrame([[value[0], 'SIR0000001', 'CAVA NORMAL EM SOLO COMUM', 'UND', value[4], value[4]*138.7050026, 2]], columns=['projeto', 'codigo', 'descricao', 'und', 'qnt', 'valor', 'tipo'])])\n",
    "\n",
    "\n",
    "atividades = atividades.dropna()\n",
    "atividades = atividades.loc[~atividades['codigo'].str.contains(r'SDMT', regex=True)] # Transporte\n",
    "atividades = atividades.loc[~atividades['codigo'].str.contains(r'SDET', regex=True)] # Transporte\n",
    "atividades = atividades.loc[atividades['codigo'] != 'SDMMU4209SI'] # Deslocamento de turma pesada\n",
    "atividades = atividades.loc[atividades['codigo'] != 'SDEMU1411II'] # Instalar ramal mono\n",
    "atividades = atividades.loc[atividades['codigo'] != 'SDEMU1412II'] # Instalar ramal poli\n",
    "atividades = atividades.loc[atividades['descricao'] != 'INSTALAR PLACA DA OBRA']\n",
    "atividades = atividades.groupby(['projeto', 'codigo', 'descricao', 'und', 'tipo'], as_index=False).sum()"
   ]
  },
  {
   "cell_type": "code",
   "execution_count": 39,
   "metadata": {},
   "outputs": [],
   "source": [
    "####### TRATANDO MATERIAIS\n",
    "\n",
    "for count, value in enumerate(materiais['codigo'].values):\n",
    "    if value in depara_materiais['DE'].values:\n",
    "        linha = depara_materiais.loc[depara_materiais['DE'] == value].values\n",
    "        materiais.loc[count, 'codigo'] = linha[0][3]\n"
   ]
  },
  {
   "cell_type": "code",
   "execution_count": 40,
   "metadata": {},
   "outputs": [],
   "source": [
    "# Junta materiais e atividades\n",
    "\n",
    "orcamentos = pd.concat([atividades,materiais])\n",
    "orcamentos.reset_index(inplace=True, drop=True)"
   ]
  },
  {
   "cell_type": "code",
   "execution_count": 41,
   "metadata": {},
   "outputs": [],
   "source": [
    "# Exclui projetos com código antigo\n",
    "\n",
    "excluir = pd.concat([\n",
    "    atividades.loc[atividades['codigo'].str.contains(r'BC', regex=True)],\n",
    "    atividades.loc[atividades['codigo'].str.contains(r'BS', regex=True)],\n",
    "    atividades.loc[atividades['codigo'].str.contains(r'BT', regex=True)]\n",
    "])\n",
    "\n",
    "\n",
    "excluir = excluir.groupby('projeto', as_index=False).sum()\n",
    "excluir = excluir['projeto'].values\n",
    "\n",
    "for i in excluir:\n",
    "    orcamentos = (orcamentos.loc[orcamentos['projeto'] != i])"
   ]
  },
  {
   "cell_type": "code",
   "execution_count": 42,
   "metadata": {},
   "outputs": [],
   "source": [
    "# Adiciona coluna de etapas\n",
    "\n",
    "etapa = []\n",
    "for count, value in enumerate(orcamentos['codigo'].values):\n",
    "    if value in caderno_servicos['codigo'].values:\n",
    "        linha = caderno_servicos.loc[caderno_servicos['codigo'] == value].values\n",
    "        etapa.append(linha[0][5])\n",
    "    else:\n",
    "        etapa.append('')\n",
    "\n",
    "orcamentos.insert(1,'etapa', etapa)\n",
    "\n",
    "orcamentos = orcamentos.loc[(orcamentos['etapa'] != '') | (orcamentos['tipo'] == 1)]"
   ]
  },
  {
   "attachments": {},
   "cell_type": "markdown",
   "metadata": {},
   "source": [
    "Elaboração da planilha de diagnóstico"
   ]
  },
  {
   "cell_type": "code",
   "execution_count": 43,
   "metadata": {},
   "outputs": [],
   "source": [
    "# Adiciona coluna com valor de mão de obra dos projetos\n",
    "\n",
    "mao_de_obra = orcamentos.loc[orcamentos['tipo'] == 2]\n",
    "mao_de_obra = mao_de_obra.merge(caderno_servicos[['codigo','Vlr Referência Único', 'GRUPO']], on=['codigo'], how='inner')\n",
    "mao_de_obra = mao_de_obra.merge(fator_k)\n",
    "mao_de_obra['Valor Total'] = mao_de_obra['qnt']*mao_de_obra['Vlr Referência Único']*mao_de_obra['FATOR_K']\n",
    "mao_de_obra = mao_de_obra.groupby(['projeto'], as_index=False).sum()\n",
    "mao_de_obra = mao_de_obra[['projeto', 'Valor Total']]"
   ]
  },
  {
   "cell_type": "code",
   "execution_count": 44,
   "metadata": {},
   "outputs": [
    {
     "data": {
      "text/html": [
       "<div>\n",
       "<style scoped>\n",
       "    .dataframe tbody tr th:only-of-type {\n",
       "        vertical-align: middle;\n",
       "    }\n",
       "\n",
       "    .dataframe tbody tr th {\n",
       "        vertical-align: top;\n",
       "    }\n",
       "\n",
       "    .dataframe thead th {\n",
       "        text-align: right;\n",
       "    }\n",
       "</style>\n",
       "<table border=\"1\" class=\"dataframe\">\n",
       "  <thead>\n",
       "    <tr style=\"text-align: right;\">\n",
       "      <th></th>\n",
       "      <th>projeto</th>\n",
       "      <th>etapa</th>\n",
       "      <th>codigo</th>\n",
       "      <th>descricao</th>\n",
       "      <th>und</th>\n",
       "      <th>tipo</th>\n",
       "      <th>qnt</th>\n",
       "      <th>valor</th>\n",
       "      <th>CATEGORIA</th>\n",
       "      <th>DETALHE</th>\n",
       "      <th>NV TENSÃO</th>\n",
       "    </tr>\n",
       "  </thead>\n",
       "  <tbody>\n",
       "    <tr>\n",
       "      <th>0</th>\n",
       "      <td>152603</td>\n",
       "      <td></td>\n",
       "      <td>3420090</td>\n",
       "      <td>MANILHA SAPATILHA ACO  5000DAN</td>\n",
       "      <td>CDA</td>\n",
       "      <td>1</td>\n",
       "      <td>44.0</td>\n",
       "      <td>343.64</td>\n",
       "      <td>FERRAGEM</td>\n",
       "      <td>NaN</td>\n",
       "      <td>NaN</td>\n",
       "    </tr>\n",
       "    <tr>\n",
       "      <th>79</th>\n",
       "      <td>152603</td>\n",
       "      <td></td>\n",
       "      <td>2412003</td>\n",
       "      <td>CONETOR PERF  10,0- 35,0/  1,5-  6,0</td>\n",
       "      <td>CDA</td>\n",
       "      <td>1</td>\n",
       "      <td>5.0</td>\n",
       "      <td>13.10</td>\n",
       "      <td>FERRAGEM</td>\n",
       "      <td>NaN</td>\n",
       "      <td>NaN</td>\n",
       "    </tr>\n",
       "    <tr>\n",
       "      <th>109</th>\n",
       "      <td>152603</td>\n",
       "      <td></td>\n",
       "      <td>2660002</td>\n",
       "      <td>FITA ISOL PVC 19,0MM VERMELHA</td>\n",
       "      <td>CDA</td>\n",
       "      <td>1</td>\n",
       "      <td>7.0</td>\n",
       "      <td>44.38</td>\n",
       "      <td>FERRAGEM</td>\n",
       "      <td>NaN</td>\n",
       "      <td>NaN</td>\n",
       "    </tr>\n",
       "    <tr>\n",
       "      <th>228</th>\n",
       "      <td>152603</td>\n",
       "      <td></td>\n",
       "      <td>3416080</td>\n",
       "      <td>CINTA POSTE CIRC ACO CARB  220,0MM</td>\n",
       "      <td>CDA</td>\n",
       "      <td>1</td>\n",
       "      <td>20.0</td>\n",
       "      <td>292.00</td>\n",
       "      <td>FERRAGEM</td>\n",
       "      <td>NaN</td>\n",
       "      <td>NaN</td>\n",
       "    </tr>\n",
       "    <tr>\n",
       "      <th>235</th>\n",
       "      <td>152603</td>\n",
       "      <td></td>\n",
       "      <td>2402002</td>\n",
       "      <td>CARTUCHO VERMELHO FERRAMENTA AMPACT</td>\n",
       "      <td>CDA</td>\n",
       "      <td>1</td>\n",
       "      <td>8.0</td>\n",
       "      <td>24.80</td>\n",
       "      <td>FERRAGEM</td>\n",
       "      <td>NaN</td>\n",
       "      <td>NaN</td>\n",
       "    </tr>\n",
       "    <tr>\n",
       "      <th>...</th>\n",
       "      <td>...</td>\n",
       "      <td>...</td>\n",
       "      <td>...</td>\n",
       "      <td>...</td>\n",
       "      <td>...</td>\n",
       "      <td>...</td>\n",
       "      <td>...</td>\n",
       "      <td>...</td>\n",
       "      <td>...</td>\n",
       "      <td>...</td>\n",
       "      <td>...</td>\n",
       "    </tr>\n",
       "    <tr>\n",
       "      <th>4657</th>\n",
       "      <td>152603</td>\n",
       "      <td></td>\n",
       "      <td>2414026</td>\n",
       "      <td>CONETOR ATR  ACO RETA 35,0/HA 16,0MM</td>\n",
       "      <td>CDA</td>\n",
       "      <td>1</td>\n",
       "      <td>3.0</td>\n",
       "      <td>10.56</td>\n",
       "      <td>FERRAGEM</td>\n",
       "      <td>NaN</td>\n",
       "      <td>NaN</td>\n",
       "    </tr>\n",
       "    <tr>\n",
       "      <th>4808</th>\n",
       "      <td>152603</td>\n",
       "      <td></td>\n",
       "      <td>3300153</td>\n",
       "      <td>POSTE CONCRETO DT 12/400 44F</td>\n",
       "      <td>CDA</td>\n",
       "      <td>1</td>\n",
       "      <td>1.0</td>\n",
       "      <td>1000.50</td>\n",
       "      <td>POSTE</td>\n",
       "      <td>POSTE AT</td>\n",
       "      <td>NaN</td>\n",
       "    </tr>\n",
       "    <tr>\n",
       "      <th>4817</th>\n",
       "      <td>152603</td>\n",
       "      <td></td>\n",
       "      <td>3419162</td>\n",
       "      <td>SUPORTE RETANG TRAFO 185X 95MM</td>\n",
       "      <td>CDA</td>\n",
       "      <td>1</td>\n",
       "      <td>2.0</td>\n",
       "      <td>138.76</td>\n",
       "      <td>SUCATA</td>\n",
       "      <td>NaN</td>\n",
       "      <td>NaN</td>\n",
       "    </tr>\n",
       "    <tr>\n",
       "      <th>4847</th>\n",
       "      <td>152603</td>\n",
       "      <td></td>\n",
       "      <td>210497</td>\n",
       "      <td>TRAFO 1FF 10KVA 13,8KV 220V 5T MI</td>\n",
       "      <td>CDA</td>\n",
       "      <td>1</td>\n",
       "      <td>2.0</td>\n",
       "      <td>4844.48</td>\n",
       "      <td>EQUIPAMENTO</td>\n",
       "      <td>TRAFO 2F</td>\n",
       "      <td>13.8</td>\n",
       "    </tr>\n",
       "    <tr>\n",
       "      <th>4872</th>\n",
       "      <td>152603</td>\n",
       "      <td></td>\n",
       "      <td>2414034</td>\n",
       "      <td>CONETOR ATR  ACO 90º 35,0/HA 16,0MM</td>\n",
       "      <td>CDA</td>\n",
       "      <td>1</td>\n",
       "      <td>16.0</td>\n",
       "      <td>143.52</td>\n",
       "      <td>FERRAGEM</td>\n",
       "      <td>NaN</td>\n",
       "      <td>NaN</td>\n",
       "    </tr>\n",
       "  </tbody>\n",
       "</table>\n",
       "<p>93 rows × 11 columns</p>\n",
       "</div>"
      ],
      "text/plain": [
       "      projeto etapa   codigo                             descricao  und  tipo  \\\n",
       "0      152603        3420090        MANILHA SAPATILHA ACO  5000DAN  CDA     1   \n",
       "79     152603        2412003  CONETOR PERF  10,0- 35,0/  1,5-  6,0  CDA     1   \n",
       "109    152603        2660002         FITA ISOL PVC 19,0MM VERMELHA  CDA     1   \n",
       "228    152603        3416080    CINTA POSTE CIRC ACO CARB  220,0MM  CDA     1   \n",
       "235    152603        2402002   CARTUCHO VERMELHO FERRAMENTA AMPACT  CDA     1   \n",
       "...       ...   ...      ...                                   ...  ...   ...   \n",
       "4657   152603        2414026  CONETOR ATR  ACO RETA 35,0/HA 16,0MM  CDA     1   \n",
       "4808   152603        3300153          POSTE CONCRETO DT 12/400 44F  CDA     1   \n",
       "4817   152603        3419162        SUPORTE RETANG TRAFO 185X 95MM  CDA     1   \n",
       "4847   152603         210497     TRAFO 1FF 10KVA 13,8KV 220V 5T MI  CDA     1   \n",
       "4872   152603        2414034   CONETOR ATR  ACO 90º 35,0/HA 16,0MM  CDA     1   \n",
       "\n",
       "       qnt    valor    CATEGORIA   DETALHE  NV TENSÃO  \n",
       "0     44.0   343.64     FERRAGEM       NaN        NaN  \n",
       "79     5.0    13.10     FERRAGEM       NaN        NaN  \n",
       "109    7.0    44.38     FERRAGEM       NaN        NaN  \n",
       "228   20.0   292.00     FERRAGEM       NaN        NaN  \n",
       "235    8.0    24.80     FERRAGEM       NaN        NaN  \n",
       "...    ...      ...          ...       ...        ...  \n",
       "4657   3.0    10.56     FERRAGEM       NaN        NaN  \n",
       "4808   1.0  1000.50        POSTE  POSTE AT        NaN  \n",
       "4817   2.0   138.76       SUCATA       NaN        NaN  \n",
       "4847   2.0  4844.48  EQUIPAMENTO  TRAFO 2F       13.8  \n",
       "4872  16.0   143.52     FERRAGEM       NaN        NaN  \n",
       "\n",
       "[93 rows x 11 columns]"
      ]
     },
     "execution_count": 44,
     "metadata": {},
     "output_type": "execute_result"
    }
   ],
   "source": [
    "orcamento_material"
   ]
  },
  {
   "cell_type": "code",
   "execution_count": 67,
   "metadata": {},
   "outputs": [
    {
     "data": {
      "text/plain": [
       "1"
      ]
     },
     "execution_count": 67,
     "metadata": {},
     "output_type": "execute_result"
    }
   ],
   "source": [
    "len(list(orcamento_material.groupby('NV TENSÃO').count().qnt))"
   ]
  },
  {
   "cell_type": "code",
   "execution_count": 68,
   "metadata": {},
   "outputs": [
    {
     "name": "stderr",
     "output_type": "stream",
     "text": [
      "C:\\Users\\PC1210\\AppData\\Local\\Temp\\ipykernel_20176\\553432360.py:34: FutureWarning: Dropping of nuisance columns in DataFrame reductions (with 'numeric_only=None') is deprecated; in a future version this will raise TypeError.  Select only valid columns before calling the reduction.\n",
      "  poste_material = orcamento_material.loc[orcamento_material['CATEGORIA'] == 'POSTE'].sum().qnt\n",
      "C:\\Users\\PC1210\\AppData\\Local\\Temp\\ipykernel_20176\\553432360.py:34: FutureWarning: Dropping of nuisance columns in DataFrame reductions (with 'numeric_only=None') is deprecated; in a future version this will raise TypeError.  Select only valid columns before calling the reduction.\n",
      "  poste_material = orcamento_material.loc[orcamento_material['CATEGORIA'] == 'POSTE'].sum().qnt\n",
      "C:\\Users\\PC1210\\AppData\\Local\\Temp\\ipykernel_20176\\553432360.py:34: FutureWarning: Dropping of nuisance columns in DataFrame reductions (with 'numeric_only=None') is deprecated; in a future version this will raise TypeError.  Select only valid columns before calling the reduction.\n",
      "  poste_material = orcamento_material.loc[orcamento_material['CATEGORIA'] == 'POSTE'].sum().qnt\n"
     ]
    }
   ],
   "source": [
    "####### IDENTIFICANDO FALHA NOS ORÇAMENTOS\n",
    "\n",
    "atividades_vs_cruz = [\n",
    "    ['INSTALAR EST CRUZ SIMP ISOL PINO/PILAR', 1],\n",
    "    ['INSTALAR EST CRUZ SIMP ISO PINO/PILAR LV', 1],\n",
    "    ['INSTALAR EST CRUZ PARA EQUIPAMENTO LV', 2],\n",
    "    ['INSTALAR EST CRUZ PARA EQUIPAMENTO', 2],\n",
    "    ['INSTALAR EST CRUZ DUPLA ISOL PINO/PILAR', 2],\n",
    "    ['INSTALAR EST CRUZ DUPLA 1 ANCORAGEM', 2],\n",
    "    ['INSTALAR EST CRUZ DUPLA 2 ANCORAGENS', 2],\n",
    "    ['INST EST CRUZ DUPLA ISOL PINO/PILAR LV', 2],\n",
    "    ['INST EST CRUZ DUPLA (1 ANCORAGEM) LV', 2],\n",
    "    ['INST EST CRUZ DUPLA 2 ANCORAGENS LV', 2]\n",
    "]\n",
    "atividades_vs_cruz = pd.DataFrame(atividades_vs_cruz, columns=['descricao', 'qnt_cruz'])\n",
    "\n",
    "projetos = orcamentos.groupby('projeto', as_index=False).sum().projeto\n",
    "\n",
    "orcamentos_material = orcamentos.loc[orcamentos['tipo'] == 1]\n",
    "orcamentos_material = orcamentos_material.merge(detalhamento_materiais[['codigo', 'CATEGORIA', 'DETALHE', 'NV TENSÃO']], on=['codigo'])\n",
    "orcamentos_atividade = orcamentos.loc[orcamentos['tipo'] == 2]\n",
    "orcamentos_atividade_cruzetas = orcamentos_atividade.merge(atividades_vs_cruz, on=['descricao'])\n",
    "orcamentos_atividade_cruzetas['qnt_cruz_atividade'] = orcamentos_atividade_cruzetas['qnt_cruz'] * orcamentos_atividade_cruzetas['qnt']\n",
    "orcamentos_atividade_cruzetas = orcamentos_atividade_cruzetas.groupby('projeto', as_index=False).sum()\n",
    "\n",
    "diagnostico = []\n",
    "\n",
    "for projeto in projetos:\n",
    "    orcamento_atividade = orcamentos_atividade.loc[orcamentos_atividade['projeto'] == projeto]\n",
    "    orcamento_material = orcamentos_material.loc[orcamentos_material['projeto'] == projeto]\n",
    "\n",
    "    # Divergência entre materiais vs atividades orçadas [POSTES]\n",
    "    poste_atividade = orcamento_atividade.loc[orcamento_atividade['descricao'] == 'INSTALAR POSTE 9 A 14 METROS'].sum().qnt + orcamento_atividade.loc[orcamento_atividade['descricao'] == 'INSTALAR POSTE 14 METROS OU SUPERIOR'].sum().qnt\n",
    "    poste_material = orcamento_material.loc[orcamento_material['CATEGORIA'] == 'POSTE'].sum().qnt\n",
    "\n",
    "    # Divergência entre materiais vs atividades orçadas [CRUZETAS]\n",
    "    cruz_atividade = orcamentos_atividade_cruzetas.loc[orcamentos_atividade_cruzetas['projeto'] == projeto].sum().qnt_cruz_atividade\n",
    "    cruz_material = orcamento_material.loc[orcamento_material['CATEGORIA'] == 'CRUZETA'].sum().qnt\n",
    "\n",
    "    # Confere quantidade de estruturas bt\n",
    "    qnt_postes_bt = orcamento_material.loc[orcamento_material['DETALHE'] == 'POSTE BT'].sum().qnt\n",
    "    qnt_est_bt = orcamento_atividade.loc[orcamento_atividade['descricao'] == 'INSTALAR EST BT PARA COND MULTIPLEX'].sum().qnt\n",
    "\n",
    "    if qnt_postes_bt == 0:\n",
    "        existe_est_bt = False\n",
    "    elif qnt_postes_bt > 0:\n",
    "        existe_est_bt = True\n",
    "    \n",
    "    if existe_est_bt:\n",
    "        if qnt_est_bt == 0:\n",
    "            verificar_est_bt = 'SIM'\n",
    "        if qnt_est_bt > 0:\n",
    "            verificar_est_bt = 'NÃO'\n",
    "\n",
    "    # Confere nível de tensão\n",
    "    if len(list(orcamento_material.groupby('NV TENSÃO').count().qnt)) > 1:\n",
    "        verificar_tensao = 'SIM'\n",
    "    else:\n",
    "        verificar_tensao = 'NÃO'\n",
    "\n",
    "\n",
    "    diagnostico.append([projeto, poste_atividade, poste_material, cruz_atividade, cruz_material, verificar_est_bt, verificar_tensao])\n",
    "\n",
    "\n",
    "\n",
    "diagnostico = pd.DataFrame(diagnostico, columns=['projeto', 'poste_atividade', 'poste_material', 'cruzeta_atividade', 'cruzeta_material', 'VERIFICAR EST BT', 'VERIFICAR NV TENSÃO'])\n",
    "\n",
    "diagnostico['diferenca_poste'] = diagnostico['poste_atividade'] - diagnostico['poste_material']\n",
    "diagnostico['diferenca_cruzeta'] = diagnostico['cruzeta_atividade'] - diagnostico['cruzeta_material']\n",
    "\n"
   ]
  },
  {
   "cell_type": "code",
   "execution_count": 73,
   "metadata": {},
   "outputs": [
    {
     "data": {
      "text/plain": [
       "datetime.datetime(2023, 3, 1, 19, 26, 40, 723806)"
      ]
     },
     "execution_count": 73,
     "metadata": {},
     "output_type": "execute_result"
    }
   ],
   "source": [
    "datetime.now()"
   ]
  },
  {
   "cell_type": "code",
   "execution_count": 76,
   "metadata": {},
   "outputs": [
    {
     "name": "stderr",
     "output_type": "stream",
     "text": [
      "C:\\Users\\PC1210\\AppData\\Local\\Packages\\PythonSoftwareFoundation.Python.3.10_qbz5n2kfra8p0\\LocalCache\\local-packages\\Python310\\site-packages\\xlsxwriter\\workbook.py:339: UserWarning: Calling close() on already closed file.\n",
      "  warn(\"Calling close() on already closed file.\")\n"
     ]
    }
   ],
   "source": [
    "# Gera planilha final\n",
    "agora = datetime.now().strftime(\"%Y-%m-%d %Hh%Mm%Ss\")\n",
    "writer = pd.ExcelWriter('Orçamentos ' + agora + '.xlsx', engine='xlsxwriter')\n",
    "\n",
    "orcamentos.to_excel(writer, sheet_name='ORÇAMENTOS', index=False)\n",
    "diagnostico.to_excel(writer, sheet_name='DIAGNÓSTICO', index=False)\n",
    "\n",
    "writer.save()\n",
    "writer.close()"
   ]
  }
 ],
 "metadata": {
  "kernelspec": {
   "display_name": "Python 3.10.8 64-bit (microsoft store)",
   "language": "python",
   "name": "python3"
  },
  "language_info": {
   "codemirror_mode": {
    "name": "ipython",
    "version": 3
   },
   "file_extension": ".py",
   "mimetype": "text/x-python",
   "name": "python",
   "nbconvert_exporter": "python",
   "pygments_lexer": "ipython3",
   "version": "3.10.10"
  },
  "orig_nbformat": 4,
  "vscode": {
   "interpreter": {
    "hash": "5f6491dd856b1f24e4aefa11912770e086e5ab03ffa4364649c148d481dc9318"
   }
  }
 },
 "nbformat": 4,
 "nbformat_minor": 2
}
